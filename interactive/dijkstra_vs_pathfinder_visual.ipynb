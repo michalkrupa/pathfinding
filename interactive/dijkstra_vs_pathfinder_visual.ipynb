
{
 "cells": [
  {
   "cell_type": "markdown",
   "metadata": {},
   "source": [
    "# Dijkstra vs Pathfinder: Visual Simulation\n",
    "This notebook shows how a custom pathfinder (based on arc navigation) compares with Dijkstra's shortest path approach in geometrically constrained spaces."
   ]
  },
  {
   "cell_type": "code",
   "execution_count": null,
   "metadata": {},
   "outputs": [],
   "source": [
    "import matplotlib.pyplot as plt\n",
    "import numpy as np\n",
    "import math\n",
    "\n",
    "# Set up a more complex scene with multiple obstacles and arcs\n",
    "fig, ax = plt.subplots(figsize=(10, 6))\n",
    "ax.set_aspect('equal')\n",
    "ax.set_title("Dijkstra vs Pathfinder: Complex Scene")\n",
    "ax.set_xlim(-1, 10)\n",
    "ax.set_ylim(-1, 6)\n",
    "\n",
    "# Define key points\n",
    "A = np.array([0, 0])\n",
    "B = np.array([9, 0])\n",
    "\n",
    "# Obstacles (circles you can't go through directly)\n",
    "obstacle_centers = [np.array([2, 1.5]), np.array([5, 2.5]), np.array([7, 1.2])]\n",
    "obstacle_radii = [1.5, 1.0, 1.2]\n",
    "\n",
    "# Arc paths around obstacles\n",
    "arc_paths = []\n",
    "for center, radius in zip(obstacle_centers, obstacle_radii):\n",
    "    theta = np.linspace(np.pi, 0, 50)\n",
    "    arc = np.array([[center[0] + radius * np.cos(t), center[1] + radius * np.sin(t)] for t in theta])\n",
    "    arc_paths.append(arc)\n",
    "\n",
    "# Direct path (Dijkstra)\n",
    "ax.plot([A[0], B[0]], [A[1], B[1]], 'r--', label='Dijkstra (Straight Line)')\n",
    "\n",
    "# Pathfinder arcs around obstacles\n",
    "for arc in arc_paths:\n",
    "    ax.plot(arc[:, 0], arc[:, 1], 'b-', linewidth=2)\n",
    "\n",
    "# Draw obstacles\n",
    "for center, r in zip(obstacle_centers, obstacle_radii):\n",
    "    circ = plt.Circle(center, r, color='gray', alpha=0.3)\n",
    "    ax.add_patch(circ)\n",
    "\n",
    "# Start and end points\n",
    "ax.plot(*A, 'go', label='Start (A)', markersize=10)\n",
    "ax.plot(*B, 'ro', label='End (B)', markersize=10)\n",
    "\n",
    "ax.legend()\n",
    "plt.grid(True)\n",
    "plt.show()"
   ]
  }
 ],
 "metadata": {
  "kernelspec": {
   "display_name": "Python 3",
   "language": "python",
   "name": "python3"
  },
  "language_info": {
   "name": "python",
   "version": "3.8"
  }
 },
 "nbformat": 4,
 "nbformat_minor": 2
}
